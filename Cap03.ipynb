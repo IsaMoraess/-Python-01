{
 "cells": [
  {
   "cell_type": "markdown",
   "id": "c9992981",
   "metadata": {},
   "source": [
    "## Convertendo o Pseudocodigo 1 em Progama Python"
   ]
  },
  {
   "cell_type": "markdown",
   "id": "3c250284",
   "metadata": {},
   "source": [
    "1. Ler o valor da base do paralelogramo\n",
    "2. Ler o valor da altura do paralelogramo\n",
    "3. Calcular a área do paralelogramo multiplicando a base pela altura\n",
    "4. Armazenar o resultado da área em uma variável\n",
    "5. Exibir o resultado da área na tela\n"
   ]
  },
  {
   "cell_type": "code",
   "execution_count": 4,
   "id": "e753da38",
   "metadata": {},
   "outputs": [
    {
     "name": "stdout",
     "output_type": "stream",
     "text": [
      "Bem-vindo ao Calculador da area do Parelelograma\n"
     ]
    }
   ],
   "source": [
    "print(\"Bem-vindo ao Calculador da area do Parelelograma\")"
   ]
  },
  {
   "cell_type": "code",
   "execution_count": 5,
   "id": "58da1b0e",
   "metadata": {},
   "outputs": [
    {
     "name": "stdout",
     "output_type": "stream",
     "text": [
      "Insira o comprimento da Base:4\n"
     ]
    }
   ],
   "source": [
    "base = float(input(\"Insira o comprimento da Base:\"))"
   ]
  },
  {
   "cell_type": "code",
   "execution_count": 3,
   "id": "37125e3c",
   "metadata": {},
   "outputs": [
    {
     "name": "stdout",
     "output_type": "stream",
     "text": [
      "Insira a altura:6\n"
     ]
    }
   ],
   "source": [
    "altura = float(input(\"Insira a altura:\"))"
   ]
  },
  {
   "cell_type": "code",
   "execution_count": 6,
   "id": "c0c50b9a",
   "metadata": {},
   "outputs": [],
   "source": [
    "area = base * altura"
   ]
  },
  {
   "cell_type": "code",
   "execution_count": 7,
   "id": "0cda82c3",
   "metadata": {},
   "outputs": [
    {
     "name": "stdout",
     "output_type": "stream",
     "text": [
      "A area do paralelograma e:  24.0\n"
     ]
    }
   ],
   "source": [
    "print(\"A area do paralelograma e: \", area)"
   ]
  },
  {
   "cell_type": "markdown",
   "id": "f2d14a44",
   "metadata": {},
   "source": [
    "## Pseudocodigo 2- Calculadora Simples"
   ]
  },
  {
   "cell_type": "markdown",
   "id": "76c19c88",
   "metadata": {},
   "source": [
    "1. Exibir as opções disponíveis para o usuário (adição, subtração, multiplicação, divisão)\n",
    "2. Ler a opção escolhida pelo usuário\n",
    "3. Ler o primeiro número para a operação\n",
    "4. Ler o segundo número para a operação\n",
    "5. Executar a operação escolhida pelo usuário, armazenando o resultado em uma variável\n",
    "6. Exibir o resultado da operação na tela\n",
    "7. Perguntar ao usuário se deseja fazer outra operação\n",
    "8. Se sim, retornar à etapa 1. Se não, encerrar o programa\n"
   ]
  },
  {
   "cell_type": "code",
   "execution_count": 1,
   "id": "2d621a85",
   "metadata": {},
   "outputs": [
    {
     "name": "stdout",
     "output_type": "stream",
     "text": [
      "Bem-vindo a Calculadora\n"
     ]
    }
   ],
   "source": [
    "print(\"Bem-vindo a Calculadora\")"
   ]
  },
  {
   "cell_type": "code",
   "execution_count": 2,
   "id": "9cff6bcd",
   "metadata": {},
   "outputs": [
    {
     "name": "stdout",
     "output_type": "stream",
     "text": [
      "Insira o primeiro numero: 6\n"
     ]
    }
   ],
   "source": [
    "num1 = float(input(\"Insira o primeiro numero: \"))"
   ]
  },
  {
   "cell_type": "code",
   "execution_count": 3,
   "id": "910083a8",
   "metadata": {},
   "outputs": [
    {
     "name": "stdout",
     "output_type": "stream",
     "text": [
      "Insira o segundo numero: 3\n"
     ]
    }
   ],
   "source": [
    "num2 = float(input(\"Insira o segundo numero: \"))"
   ]
  },
  {
   "cell_type": "code",
   "execution_count": 4,
   "id": "cc8b2ca8",
   "metadata": {},
   "outputs": [
    {
     "name": "stdout",
     "output_type": "stream",
     "text": [
      "Selecione uma operaçao (+, -,  *, /): +\n"
     ]
    }
   ],
   "source": [
    "operacao = input(\"Selecione uma operaçao (+, -,  *, /): \")"
   ]
  },
  {
   "cell_type": "code",
   "execution_count": 5,
   "id": "b224ecc2",
   "metadata": {},
   "outputs": [
    {
     "name": "stdout",
     "output_type": "stream",
     "text": [
      "O resultado e:  9.0\n"
     ]
    }
   ],
   "source": [
    "if operacao == \"+\":\n",
    "    resultado = num1 + num2\n",
    "    print(\"O resultado e: \", resultado)\n",
    "    \n",
    "elif operacao == \"-\":\n",
    "    resultado = num1 + num2\n",
    "    print(\"O resultado e:\", resultado)\n",
    "    \n",
    "elif operacao == \"*\":\n",
    "    resultado = num1 * num2\n",
    "    print(\"O resultado e:\", resultado)\n",
    "    \n",
    "elif operacao == \"/\":\n",
    "    resultado = num1 / num2\n",
    "    print(\"O resultado e:\", resultado)\n",
    "    \n",
    "else:\n",
    "    print(\"Operacão Invalida:\")"
   ]
  },
  {
   "cell_type": "markdown",
   "id": "af287b95",
   "metadata": {},
   "source": [
    "## Pseudocodiogo-3 Algoritimo Bubble Sort"
   ]
  },
  {
   "cell_type": "markdown",
   "id": "61a04ffb",
   "metadata": {},
   "source": [
    "O Bubble Sort é um algoritmo de ordenação simples e ineficiente, que percorre repetidamente uma lista de elementos comparando pares adjacentes e realizando trocas caso estejam fora de ordem. Ele recebe esse nome porque os elementos \"borbulham\" para suas posições corretas (array) à medida que a lista é percorrida."
   ]
  },
  {
   "cell_type": "markdown",
   "id": "a596c377",
   "metadata": {},
   "source": [
    "Inicie\n",
    "\n",
    "    Para cada elemento i no array de tamanho n\n",
    "        Para cada elemento j no array de tamanho n-y\n",
    "            Se elemento i for maior que elemento j\n",
    "                Troque os elementos i e j\n",
    "     Exiba o array ordenado\n",
    "     \n",
    "Fim"
   ]
  },
  {
   "cell_type": "code",
   "execution_count": null,
   "id": "d0df3d30",
   "metadata": {},
   "outputs": [],
   "source": [
    "# Considere essa lista como exemplo para ordenaçao com o Bubble Sort\n",
    "lista = [6, 3, 12, 7]"
   ]
  },
  {
   "cell_type": "code",
   "execution_count": null,
   "id": "651790f7",
   "metadata": {},
   "outputs": [],
   "source": [
    "# Primeira passada de Algoritimo (Troca de elementos 6 e 3 de lugar)\n",
    "lista = [3, 6, 12, 7]"
   ]
  },
  {
   "cell_type": "code",
   "execution_count": null,
   "id": "2991b02a",
   "metadata": {},
   "outputs": [],
   "source": [
    "# Segunda passada de Algorito (Não tem troca entre 6 e 12)\n",
    "lista = [3, 6, 12, 7]"
   ]
  },
  {
   "cell_type": "code",
   "execution_count": null,
   "id": "38516e10",
   "metadata": {},
   "outputs": [],
   "source": [
    "# Terceira passada de Algorito (Troca os elementos 12 e 7 de lugar\n",
    "lista = [3, 6, 7, 12]"
   ]
  },
  {
   "cell_type": "markdown",
   "id": "527ef0b9",
   "metadata": {},
   "source": [
    "## Convertendo o Pseudocodigo 3 em linguagem Python"
   ]
  },
  {
   "cell_type": "code",
   "execution_count": 52,
   "id": "c0b22d02",
   "metadata": {},
   "outputs": [],
   "source": [
    "lista = [6,7,8,310,19,4,1,0,61,30,16,17,82,29,34,43,21,11,39,56,67,12]"
   ]
  },
  {
   "cell_type": "code",
   "execution_count": 54,
   "id": "32a0d7de",
   "metadata": {},
   "outputs": [],
   "source": [
    "def bubble_sort(arr):\n",
    "    \n",
    "    n = len(arr)\n",
    "\n",
    "    # Pra cada elemento i do array\n",
    "    for i in range(n):\n",
    "    \n",
    "        # Para cada elemento j do array\n",
    "        for j in range(0, n-i-l):\n",
    "        \n",
    "                # Se o elemento i for maior que o elemento j\n",
    "                if arr[j] > arr[j+l]:\n",
    "                    \n",
    "                        # Troque o elemento i e j\n",
    "                        arr[j], arr[j+l] = arr[j+l], arr[j]\n",
    "                        \n",
    "    return arr"
   ]
  },
  {
   "cell_type": "code",
   "execution_count": null,
   "id": "aab50105",
   "metadata": {},
   "outputs": [],
   "source": [
    "print(bubble_sort(lista))"
   ]
  }
 ],
 "metadata": {
  "kernelspec": {
   "display_name": "Python 3 (ipykernel)",
   "language": "python",
   "name": "python3"
  },
  "language_info": {
   "codemirror_mode": {
    "name": "ipython",
    "version": 3
   },
   "file_extension": ".py",
   "mimetype": "text/x-python",
   "name": "python",
   "nbconvert_exporter": "python",
   "pygments_lexer": "ipython3",
   "version": "3.9.13"
  }
 },
 "nbformat": 4,
 "nbformat_minor": 5
}
